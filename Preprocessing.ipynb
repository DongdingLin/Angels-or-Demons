{
 "cells": [
  {
   "cell_type": "code",
   "execution_count": 2,
   "metadata": {
    "collapsed": true
   },
   "outputs": [],
   "source": [
    "import pandas as pd\n",
    "import numpy as np\n",
    "import sys"
   ]
  },
  {
   "cell_type": "code",
   "execution_count": null,
   "metadata": {
    "collapsed": true
   },
   "outputs": [],
   "source": [
    "# 规范化数据部分\n",
    "pan_train = pd.read_csv(\"./DataSet/train.csv\", header=None)\n",
    "pan_test = pd.read_csv(\"./DataSet/test.csv\", header=None)\n",
    "pan_train.drop([pan_train.columns[247]], axis=1,inplace=True)\n",
    "pan_test.drop([pan_test.columns[246]], axis=1,inplace=True)\n",
    "pan_train_label = pan_train.iloc[:, 246]\n",
    "pan_train_data = pan_train.iloc[:, 0:246]\n",
    "data_all = pd.concat([pan_train_data, pan_test], axis=0)\n",
    "\n",
    "pan_train_label.to_csv('./DataSet/train_label.csv',header=False, index=False)\n",
    "data_all.to_csv('./DataSet/data_all.csv', header=False, index=False)\n",
    "pan_train_data.to_csv('./DataSet/train_data.csv',header=False, index=False)\n",
    "pan_test.to_csv('./DataSet/test_data.csv',header=False, index=False)"
   ]
  },
  {
   "cell_type": "code",
   "execution_count": null,
   "metadata": {
    "collapsed": true
   },
   "outputs": [],
   "source": [
    "# 清洗数据\n",
    "data_all = pd.read_csv('./DataSet/data_all.csv', header=None)\n",
    "train_data = pd.read_csv('./DataSet/train_data.csv',header=None)\n",
    "test_data = pd.read_csv('./DataSet/test_data.csv',header=None)\n",
    "train_label = pd.read_csv('./DataSet/train_label.csv',header=None)\n",
    "data_all = data_all.dropna(axis=1, how='all')\n",
    "data_all = data_all.fillna(data_all.mean())\n",
    "data_all.to_csv('./DataSet/data_all_1FillWithMean.csv', header=False, index=False)\n",
    "for i in data_all.columns:\n",
    "    d=len(data_all)-data_all[i].count()\n",
    "    r=(d/len(data_all))*100\n",
    "    rate='%.2f%%' % r\n",
    "    if d != 0:\n",
    "        print('字段名为：',str(i).ljust(10),'缺失值数量:',str(d).ljust(4),'缺失数量占比：',rate)\n",
    "        if r < 1:\n",
    "            word = data_all.iloc[:, i].mode().loc[0]\n",
    "            data_all.iloc[:, i].fillna(word, inplace=True)\n",
    "        if r > 1:\n",
    "            data_all.iloc[:, i].fillna('missing', inplace=True)\n",
    "data_all.to_csv('./DataSet/data_all_2Full.csv', header=False, index=False)"
   ]
  },
  {
   "cell_type": "code",
   "execution_count": null,
   "metadata": {
    "collapsed": true
   },
   "outputs": [],
   "source": [
    "#时间转换为数值\n",
    "data_all = pd.read_csv('./DataSet/data_all_2Full.csv',header=None)\n",
    "time_t = pd.to_datetime(data_all.iloc[:,198], format='%Y-%m-%d-%H.%M.%S.%f')\n",
    "data_all.drop(198, 1, inplace=True)\n",
    "min_t = min(time_t)\n",
    "list_day = [(i-min_t).days for i in time_t]\n",
    "days = pd.DataFrame(list_day)\n",
    "data_all = pd.concat([data_all, days], axis=1)\n",
    "data_all.to_csv('./DataSet/data_all_3Full_with_day.csv', header=False, index=False)"
   ]
  },
  {
   "cell_type": "code",
   "execution_count": null,
   "metadata": {
    "collapsed": true
   },
   "outputs": [],
   "source": [
    "# 以时间分块\n",
    "data_all = pd.read_csv('./DataSet/data_all_3Full_with_day.csv',header=None)\n",
    "temp = pd.get_dummies(data_all.iloc[:, 237])\n",
    "data_all.drop(237, 1, inplace=True)\n",
    "data_all = pd.concat([data_all, temp], axis=1)\n",
    "data_all.to_csv('./DataSet/data_all_4Full_with_day_dummies.csv', header=False, index=False)"
   ]
  },
  {
   "cell_type": "code",
   "execution_count": 3,
   "metadata": {},
   "outputs": [],
   "source": [
    "# 全部转成数字\n",
    "data_all = pd.read_csv('./DataSet/data_all_4Full_with_day_dummies.csv',header=None)\n",
    "for i in range(len(data_all.columns)):\n",
    "    ty = data_all.iloc[:,i]\n",
    "    type_  = (str(ty.dtype))\n",
    "    if type_ != 'float64' and type_ != 'int64':\n",
    "        temp = pd.get_dummies(ty)\n",
    "        data_all = pd.concat([data_all, temp], axis=1)\n",
    "for i in range(300):\n",
    "    ty = data_all.loc[:,i]\n",
    "    type_  = (str(ty.dtype))\n",
    "    if type_ != 'float64' and type_ != 'int64':\n",
    "        data_all.drop(i, 1, inplace=True)\n",
    "data_all.to_csv('./DataSet/data_all_5ALL_Digtal.csv', header=False, index=False)"
   ]
  },
  {
   "cell_type": "code",
   "execution_count": 4,
   "metadata": {
    "collapsed": true
   },
   "outputs": [],
   "source": [
    "# 还原成train data和test data\n",
    "data_all = pd.read_csv('./DataSet/data_all_5ALL_Digtal.csv',header=None)\n",
    "train_label = pd.read_csv('./DataSet/train_label.csv',header=None)\n",
    "train_count = len(train_label)\n",
    "train_data = data_all.iloc[:train_count, :]\n",
    "test_data = data_all.iloc[train_count:, :]\n",
    "train_data.to_csv('./DataSet/Last_Train.csv',header=False, index=False)\n",
    "test_data.to_csv('./DataSet/Last_Test.csv',header=False, index=False)\n",
    "train_label.to_csv('./DataSet/Last_Train_Label.csv',header=False, index=False)"
   ]
  }
 ],
 "metadata": {
  "kernelspec": {
   "display_name": "Python 3",
   "language": "python",
   "name": "python3"
  },
  "language_info": {
   "codemirror_mode": {
    "name": "ipython",
    "version": 3
   },
   "file_extension": ".py",
   "mimetype": "text/x-python",
   "name": "python",
   "nbconvert_exporter": "python",
   "pygments_lexer": "ipython3",
   "version": "3.6.1"
  }
 },
 "nbformat": 4,
 "nbformat_minor": 2
}
